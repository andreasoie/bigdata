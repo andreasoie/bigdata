{
 "cells": [
  {
   "cell_type": "code",
   "execution_count": 87,
   "metadata": {},
   "outputs": [],
   "source": [
    "import time\n",
    "import pandas as pd\n",
    "\n",
    "from pytrends.request import TrendReq\n",
    "from tqdm import tqdm\n",
    "\n",
    "# Local imports\n",
    "from utils import get_sampled_countries, is_leap_year\n",
    "from testchecks import is_valid_country_query\n",
    "from typerhints import CountryList, Countries, SearchTerm, HistoryFrame, HistoryFrameBlocks\n",
    "\n",
    "from pytrends.request import TrendReq\n",
    "from matplotlib import pyplot as plt\n",
    "\n",
    "import warnings\n",
    "warnings.simplefilter(action='ignore', category=FutureWarning)\n",
    "\n",
    "# Vizu settings\n",
    "%matplotlib inline\n",
    "plt.rcParams['font.size'] = 16\n",
    "plt.rcParams['figure.figsize'] = (10, 6)\n",
    "\n",
    "# Local imports\n",
    "from utils import load_countries, plot_history, histories_to_pandas\n",
    "from search_engine import SearchEngine\n",
    "\n",
    "# reproducibility\n",
    "import random\n",
    "random.seed(1337)"
   ]
  },
  {
   "cell_type": "code",
   "execution_count": 88,
   "metadata": {},
   "outputs": [],
   "source": [
    "COUNTRY_DIR = \"docs/countries.txt\"\n",
    "COUNTRY_IGNORE_DIR = \"docs/ignore.txt\"\n",
    "LANGUAGE = 'en-US'\n",
    "TIME_ZONE = 360\n",
    "\n",
    "pytrends = TrendReq(hl=LANGUAGE, tz=TIME_ZONE)\n",
    "supported_countries = load_countries(filename=COUNTRY_DIR, ignore=COUNTRY_IGNORE_DIR)\n",
    "fetch_interval = 1"
   ]
  },
  {
   "cell_type": "code",
   "execution_count": 89,
   "metadata": {},
   "outputs": [],
   "source": [
    "def get_head_and_tail_values(hist):\n",
    "    head_hist = hist.head(1)\n",
    "    tail_hist = hist.tail(1)\n",
    "\n",
    "    heads = []\n",
    "    tails = []\n",
    "\n",
    "    for name in hist.columns:\n",
    "        hval = head_hist[name].values[0]\n",
    "        tval = tail_hist[name].values[0]\n",
    "        \n",
    "        heads.append(hval)\n",
    "        tails.append(tval)\n",
    "\n",
    "    assert len(hist.columns) == len(heads), \"length of heads doesnt match number of column names\"\n",
    "    assert len(hist.columns) == len(tails), \"length of tails doesnt match number of column names\"\n",
    "\n",
    "    return heads, tails"
   ]
  },
  {
   "cell_type": "code",
   "execution_count": 90,
   "metadata": {},
   "outputs": [
    {
     "name": "stdout",
     "output_type": "stream",
     "text": [
      "            Obama\n",
      "date             \n",
      "2020-01-01     18\n",
      "2020-01-02     20\n",
      "2020-01-03     30\n",
      "2020-01-04     31\n",
      "2020-01-05     33\n",
      "            Obama\n",
      "date             \n",
      "2020-12-27     12\n",
      "2020-12-28      7\n",
      "2020-12-29      8\n",
      "2020-12-30      9\n",
      "2020-12-31      9\n",
      "            Obama\n",
      "date             \n",
      "2020-01-01   18.0\n",
      "2020-01-02   20.0\n",
      "2020-01-03   30.0\n",
      "2020-01-04   31.0\n",
      "2020-01-05   33.0\n",
      "               Obama\n",
      "date                \n",
      "2020-12-27  5.680000\n",
      "2020-12-28  3.313333\n",
      "2020-12-29  3.786667\n",
      "2020-12-30  4.260000\n",
      "2020-12-31  4.260000\n"
     ]
    }
   ],
   "source": [
    "YEAR = 2020\n",
    "SEARCH_TERM = [\"Obama\"]\n",
    "SEARCH_COUNTRIES = [\"Germany\"]\n",
    "GEOCODE = \"DE\"\n",
    "\n",
    "tmp_history = []\n",
    "\n",
    "expected_days = 365\n",
    "if is_leap_year(YEAR):\n",
    "    expected_days = 366\n",
    "\n",
    "# Build timeline\n",
    "first_six_months = f\"{YEAR}-1-1 {YEAR}-6-30\"\n",
    "last_six_months = f\"{YEAR}-7-1 {YEAR}-12-31\"\n",
    "time_periods = [first_six_months, last_six_months]\n",
    "\n",
    "for time_period in time_periods:\n",
    "    # don't fetch too often I guess?\n",
    "    time.sleep(fetch_interval)\n",
    "    # create the payload for related queries\n",
    "    pytrends.build_payload(SEARCH_TERM, timeframe=time_period, geo=GEOCODE)\n",
    "    # request data from dataframe\n",
    "    payload = pytrends.interest_over_time()\n",
    "    if payload.empty:\n",
    "        raise ValueError(f\"Dropping request: {SEARCH_TERM} for geocode ({GEOCODE})\")\n",
    "    history_frame = payload.drop(columns=['isPartial'])\n",
    "    tmp_history.append(history_frame)\n",
    "\n",
    "# merge\n",
    "first_last_day = first_six_months.split(\" \")[1]\n",
    "last_first_day = last_six_months.split(\" \")[0]\n",
    "\n",
    "merge_period = f\"{first_last_day} {last_first_day}\"\n",
    "\n",
    "# create the payload for related queries\n",
    "pytrends.build_payload(SEARCH_TERM, timeframe=merge_period, geo=GEOCODE)\n",
    "# request data from dataframe\n",
    "payload = pytrends.interest_over_time()\n",
    "if payload.empty:\n",
    "    raise ValueError(f\"Dropping request: {SEARCH_TERM} for geocode ({GEOCODE})\")\n",
    "\n",
    "hframe = payload.drop(columns=['isPartial'])\n",
    "\n",
    "# Implementation below accounts for multiple search terms,\n",
    "# we're only using one (!!!)\n",
    "merge_lists = []\n",
    "scale_factors = []\n",
    "for col_name in hframe.columns:\n",
    "    tmp_list = hframe[col_name].values.tolist()\n",
    "    merge_lists.append(tmp_list)\n",
    "for mlist, mhist in zip(merge_lists, tmp_history):\n",
    "    BP0, BP1 = mlist\n",
    "    P1, P2 = get_head_and_tail_values(mhist)\n",
    "    # Algo\n",
    "    s = (BP1 * P1[-1]) / (BP0 * P2[0])\n",
    "    scale_factors.append(s)\n",
    "\n",
    "# Get scaled value\n",
    "scaler = scale_factors[0]\n",
    "\n",
    "time_periods\n",
    "\n",
    "p1 = tmp_history[0]\n",
    "p2 = tmp_history[1]\n",
    "fullblock = pd.concat([p1, p2], axis=0)\n",
    "\n",
    "# Scale second period to constrast\n",
    "p2 = p2.mul(scaler, axis=0)\n",
    "\n",
    "fullblock = pd.concat([p1, p2], axis=0)\n"
   ]
  },
  {
   "cell_type": "code",
   "execution_count": null,
   "metadata": {},
   "outputs": [
    {
     "data": {
      "text/html": [
       "<div>\n",
       "<style scoped>\n",
       "    .dataframe tbody tr th:only-of-type {\n",
       "        vertical-align: middle;\n",
       "    }\n",
       "\n",
       "    .dataframe tbody tr th {\n",
       "        vertical-align: top;\n",
       "    }\n",
       "\n",
       "    .dataframe thead th {\n",
       "        text-align: right;\n",
       "    }\n",
       "</style>\n",
       "<table border=\"1\" class=\"dataframe\">\n",
       "  <thead>\n",
       "    <tr style=\"text-align: right;\">\n",
       "      <th></th>\n",
       "      <th>Obama</th>\n",
       "    </tr>\n",
       "    <tr>\n",
       "      <th>date</th>\n",
       "      <th></th>\n",
       "    </tr>\n",
       "  </thead>\n",
       "  <tbody>\n",
       "    <tr>\n",
       "      <th>2020-06-30</th>\n",
       "      <td>100</td>\n",
       "    </tr>\n",
       "    <tr>\n",
       "      <th>2020-07-01</th>\n",
       "      <td>71</td>\n",
       "    </tr>\n",
       "  </tbody>\n",
       "</table>\n",
       "</div>"
      ],
      "text/plain": [
       "            Obama\n",
       "date             \n",
       "2020-06-30    100\n",
       "2020-07-01     71"
      ]
     },
     "execution_count": 76,
     "metadata": {},
     "output_type": "execute_result"
    }
   ],
   "source": [
    "scale_factors"
   ]
  },
  {
   "cell_type": "code",
   "execution_count": 65,
   "metadata": {},
   "outputs": [],
   "source": [
    "h1 = tmp_history[0]\n",
    "h2 = tmp_history[1]"
   ]
  },
  {
   "cell_type": "code",
   "execution_count": 59,
   "metadata": {},
   "outputs": [
    {
     "data": {
      "text/plain": [
       "(            Donald Trump  Obama\n",
       " date                           \n",
       " 2020-01-01            23     11\n",
       " 2020-01-02            15     12\n",
       " 2020-01-03            48     18\n",
       " 2020-01-04            57     19\n",
       " 2020-01-05            75     20,\n",
       "             Donald Trump  Obama\n",
       " date                           \n",
       " 2020-07-01             4      2\n",
       " 2020-07-02             5      2\n",
       " 2020-07-03             5      3\n",
       " 2020-07-04            11      2\n",
       " 2020-07-05             7      3)"
      ]
     },
     "execution_count": 59,
     "metadata": {},
     "output_type": "execute_result"
    }
   ],
   "source": [
    "h1.head(), h2.head()"
   ]
  },
  {
   "cell_type": "code",
   "execution_count": null,
   "metadata": {},
   "outputs": [],
   "source": [
    "hist1 = tmp_history[0]\n",
    "hist2 = tmp_history[1]"
   ]
  },
  {
   "cell_type": "code",
   "execution_count": null,
   "metadata": {},
   "outputs": [],
   "source": [
    "get_head_and_tail_values(hist1)"
   ]
  },
  {
   "cell_type": "code",
   "execution_count": null,
   "metadata": {},
   "outputs": [],
   "source": [
    "hframe.head()"
   ]
  },
  {
   "cell_type": "code",
   "execution_count": null,
   "metadata": {},
   "outputs": [],
   "source": [
    "merge_values = []\n",
    "for col_name in hframe.columns:\n",
    "    merge_vals = hframe[\"Donald Trump\"].values.tolist()\n",
    "    merge_values.append(merge_vals)"
   ]
  },
  {
   "cell_type": "code",
   "execution_count": null,
   "metadata": {},
   "outputs": [],
   "source": [
    "merge_values"
   ]
  },
  {
   "cell_type": "code",
   "execution_count": null,
   "metadata": {},
   "outputs": [],
   "source": [
    "m1 = hframe[\"\"]\n",
    "m2 = hframe.iloc[1]\n",
    "\n",
    "print(\"M1: \", m1)\n",
    "print(\"M2: \", m2)\n",
    "\n",
    "print(hframe.head())\n",
    "# ULRIKs merge\n",
    "\n",
    "# Combine the two time period from the timeline\n",
    "combined_history = pd.concat(tmp_history)\n",
    "assert combined_history.shape[0] == expected_days, f\"Expected {expected_days} days in a year!\"\n",
    "\n",
    "final_block = combined_history"
   ]
  }
 ],
 "metadata": {
  "interpreter": {
   "hash": "69a7ce20f0c7facf626ee2a8a28dddd143063bd9b59f8c23d36f7a171909b336"
  },
  "kernelspec": {
   "display_name": "Python 3.8.10 ('venv': venv)",
   "language": "python",
   "name": "python3"
  },
  "language_info": {
   "codemirror_mode": {
    "name": "ipython",
    "version": 3
   },
   "file_extension": ".py",
   "mimetype": "text/x-python",
   "name": "python",
   "nbconvert_exporter": "python",
   "pygments_lexer": "ipython3",
   "version": "3.8.10"
  },
  "orig_nbformat": 4
 },
 "nbformat": 4,
 "nbformat_minor": 2
}
