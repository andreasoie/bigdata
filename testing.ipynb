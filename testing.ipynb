{
 "cells": [
  {
   "cell_type": "code",
   "execution_count": 19,
   "metadata": {},
   "outputs": [],
   "source": [
    "import time\n",
    "import random\n",
    "import pandas as pd\n",
    "import utils\n",
    "import itertools\n",
    "\n",
    "from typing import List, Tuple, Union\n",
    "from pytrends.request import TrendReq\n",
    "from matplotlib import pyplot as plt\n",
    "from tqdm import tqdm\n",
    "\n",
    "# Vizu settings\n",
    "%matplotlib inline\n",
    "plt.rcParams['font.size'] = 16\n",
    "plt.rcParams['figure.figsize'] = (10, 6)\n",
    "\n",
    "random.seed(1337)"
   ]
  },
  {
   "cell_type": "code",
   "execution_count": 20,
   "metadata": {},
   "outputs": [],
   "source": [
    "import warnings\n",
    "warnings.simplefilter(action='ignore', category=FutureWarning)"
   ]
  },
  {
   "cell_type": "code",
   "execution_count": 21,
   "metadata": {},
   "outputs": [],
   "source": [
    "LANGUAGE = 'en-US'\n",
    "TIME_ZONE = 360"
   ]
  },
  {
   "cell_type": "code",
   "execution_count": 22,
   "metadata": {},
   "outputs": [],
   "source": [
    "pytrends = TrendReq(hl=LANGUAGE, tz=TIME_ZONE)"
   ]
  },
  {
   "cell_type": "code",
   "execution_count": 23,
   "metadata": {},
   "outputs": [],
   "source": [
    "COUNTRIES = utils.load_countries(filename=\"countries.txt\", ignore=\"ignore.txt\")"
   ]
  },
  {
   "cell_type": "code",
   "execution_count": 61,
   "metadata": {},
   "outputs": [],
   "source": [
    "def get_interest_over_time(kw_list: List[str], tf: str, geo: str, sleep: float = 0.25) -> Union[pd.DataFrame, pd.Series]:\n",
    "    time.sleep(sleep)\n",
    "    pytrends.build_payload(kw_list, timeframe=tf, geo=geo)\n",
    "    datablock = pytrends.interest_over_time()\n",
    "    if datablock.empty:\n",
    "        raise ValueError(f\"Dropping dataframe for {kw_list} for geocode: {geo}\")\n",
    "    return datablock.drop(columns=['isPartial'])\n",
    "\n",
    "def plot_history(plotting_data: list, search_terms: List[str]) -> None:\n",
    "    titles, legends, datas = plotting_data\n",
    "\n",
    "    for _title in zip(titles):\n",
    "        plt.figure()\n",
    "        plt.plot(datas, label=legends)\n",
    "        plt.title(_title)\n",
    "        plt.xlabel(\"Date\")\n",
    "        plt.ylabel(\"Interest\")\n",
    "        plt.grid(True)\n",
    "        plt.legend(legends)\n",
    "\n",
    "    plt.show()\n",
    "\n",
    "    # for result in [results]:\n",
    "    #     for search_term in search_terms:\n",
    "    #         plt.figure()\n",
    "    #         for label, pd_history in result:\n",
    "    #             plt.plot(pd_history, label=label)\n",
    "    #         plt.ylabel(\"Interest\")\n",
    "    #         plt.xlabel(\"Time\")\n",
    "    #         plt.legend(loc=\"upper right\")\n",
    "    #         plt.title(f\"{search_term.capitalize()}: Interest Over Time\")\n",
    "\n",
    "def create_plot_data(history, search_terms):\n",
    "    titles = search_terms\n",
    "    legends = [country[0] for country in history]\n",
    "    datas = [country[1] for country in history]\n",
    "    return [titles, legends, datas]\n",
    "\n",
    "def get_yearly_interest_by_country(search_terms: List[str],\n",
    "                                   year: int,\n",
    "                                   geocode: str,\n",
    "                                   fetch_interval: int = 1) -> Union[pd.Series, pd.DataFrame]:\n",
    "    history = []\n",
    "    first_six_months = f\"{year}-1-1 {year}-6-30\"\n",
    "    last_six_months = f\"{year}-7-1 {year}-12-31\"\n",
    "    \n",
    "    for time_period in [first_six_months, last_six_months]:\n",
    "        history_frame = get_interest_over_time(search_terms, time_period, geocode, fetch_interval)\n",
    "        history.append(history_frame)\n",
    "\n",
    "    year_of_data = pd.concat(history)\n",
    "    assert year_of_data.shape[0] == 365, \"Expected 365 days in a year!\"\n",
    "\n",
    "    return year_of_data\n",
    "\n",
    "def get_daily_trends_by_year(search_terms: List[str], year: int, countries: Union[int, List[str]], fetch_interval: int = 1) -> List[Tuple[str, Union[pd.DataFrame, pd.Series]]]:\n",
    "    utils.check_is_valid_indexing(countries)\n",
    "\n",
    "    search_countries = get_sampled_countries(countries=countries)\n",
    "\n",
    "    history = []\n",
    "\n",
    "    for geocode, country in tqdm(search_countries, desc=\"Fetching trends\", nrows=n_countries, colour=\"green\"):\n",
    "        try:\n",
    "            history_frame = get_yearly_interest_by_country(search_terms, year, geocode, fetch_interval)\n",
    "        except ValueError as ve:\n",
    "            print(ve)\n",
    "            continue # continue if empty\n",
    "        history.append((country, history_frame))\n",
    "    return history\n",
    "    \n",
    "def get_sampled_countries(countries: Union[int, List[str]]):\n",
    "    if isinstance(countries, int):\n",
    "        if countries == 0:\n",
    "            return COUNTRIES\n",
    "        else:\n",
    "            return random.sample(COUNTRIES, countries)\n",
    "    elif isinstance(countries, List):\n",
    "        raise NotImplementedError(\"TODO\")\n",
    "    "
   ]
  },
  {
   "cell_type": "code",
   "execution_count": 62,
   "metadata": {},
   "outputs": [
    {
     "name": "stdout",
     "output_type": "stream",
     "text": [
      "Checking type:  <class 'int'>\n"
     ]
    },
    {
     "name": "stderr",
     "output_type": "stream",
     "text": [
      "Fetching trends: 100%|\u001b[32m██████████\u001b[0m| 3/3 [00:09<00:00,  3.29s/it]\n"
     ]
    }
   ],
   "source": [
    "year = 2015\n",
    "search_terms = [\"yoghurt\", \"cheese\"]\n",
    "n_countries = 3           # 0 = all\n",
    "fetch_interval = 1       # sleep time between requests\n",
    "\n",
    "history = get_daily_trends_by_year(search_terms, year, n_countries, fetch_interval)"
   ]
  },
  {
   "cell_type": "markdown",
   "metadata": {},
   "source": [
    "### Vizualize: TODO FIX THIS PLOTTING SHITT"
   ]
  },
  {
   "cell_type": "code",
   "execution_count": 63,
   "metadata": {},
   "outputs": [],
   "source": [
    "plotting_data = create_plot_data(history, search_terms)"
   ]
  },
  {
   "cell_type": "code",
   "execution_count": 64,
   "metadata": {},
   "outputs": [
    {
     "ename": "ValueError",
     "evalue": "x and y can be no greater than 2D, but have shapes (3,) and (3, 365, 2)",
     "output_type": "error",
     "traceback": [
      "\u001b[1;31m---------------------------------------------------------------------------\u001b[0m",
      "\u001b[1;31mValueError\u001b[0m                                Traceback (most recent call last)",
      "\u001b[1;32mc:\\dev\\bigdata\\testing.ipynb Cell 10'\u001b[0m in \u001b[0;36m<module>\u001b[1;34m\u001b[0m\n\u001b[1;32m----> <a href='vscode-notebook-cell:/c%3A/dev/bigdata/testing.ipynb#ch0000037?line=0'>1</a>\u001b[0m plot_history(plotting_data, search_terms)\n",
      "\u001b[1;32mc:\\dev\\bigdata\\testing.ipynb Cell 6'\u001b[0m in \u001b[0;36mplot_history\u001b[1;34m(plotting_data, search_terms)\u001b[0m\n\u001b[0;32m     <a href='vscode-notebook-cell:/c%3A/dev/bigdata/testing.ipynb#ch0000005?line=11'>12</a>\u001b[0m \u001b[39mfor\u001b[39;00m _title \u001b[39min\u001b[39;00m \u001b[39mzip\u001b[39m(titles):\n\u001b[0;32m     <a href='vscode-notebook-cell:/c%3A/dev/bigdata/testing.ipynb#ch0000005?line=12'>13</a>\u001b[0m     plt\u001b[39m.\u001b[39mfigure()\n\u001b[1;32m---> <a href='vscode-notebook-cell:/c%3A/dev/bigdata/testing.ipynb#ch0000005?line=13'>14</a>\u001b[0m     plt\u001b[39m.\u001b[39;49mplot(datas, label\u001b[39m=\u001b[39;49mlegends)\n\u001b[0;32m     <a href='vscode-notebook-cell:/c%3A/dev/bigdata/testing.ipynb#ch0000005?line=14'>15</a>\u001b[0m     plt\u001b[39m.\u001b[39mtitle(_title)\n\u001b[0;32m     <a href='vscode-notebook-cell:/c%3A/dev/bigdata/testing.ipynb#ch0000005?line=15'>16</a>\u001b[0m     plt\u001b[39m.\u001b[39mxlabel(\u001b[39m\"\u001b[39m\u001b[39mDate\u001b[39m\u001b[39m\"\u001b[39m)\n",
      "File \u001b[1;32mC:\\dev\\bigdata\\venv\\lib\\site-packages\\matplotlib\\pyplot.py:2757\u001b[0m, in \u001b[0;36mplot\u001b[1;34m(scalex, scaley, data, *args, **kwargs)\u001b[0m\n\u001b[0;32m   <a href='file:///c%3A/dev/bigdata/venv/lib/site-packages/matplotlib/pyplot.py?line=2754'>2755</a>\u001b[0m \u001b[39m@_copy_docstring_and_deprecators\u001b[39m(Axes\u001b[39m.\u001b[39mplot)\n\u001b[0;32m   <a href='file:///c%3A/dev/bigdata/venv/lib/site-packages/matplotlib/pyplot.py?line=2755'>2756</a>\u001b[0m \u001b[39mdef\u001b[39;00m \u001b[39mplot\u001b[39m(\u001b[39m*\u001b[39margs, scalex\u001b[39m=\u001b[39m\u001b[39mTrue\u001b[39;00m, scaley\u001b[39m=\u001b[39m\u001b[39mTrue\u001b[39;00m, data\u001b[39m=\u001b[39m\u001b[39mNone\u001b[39;00m, \u001b[39m*\u001b[39m\u001b[39m*\u001b[39mkwargs):\n\u001b[1;32m-> <a href='file:///c%3A/dev/bigdata/venv/lib/site-packages/matplotlib/pyplot.py?line=2756'>2757</a>\u001b[0m     \u001b[39mreturn\u001b[39;00m gca()\u001b[39m.\u001b[39;49mplot(\n\u001b[0;32m   <a href='file:///c%3A/dev/bigdata/venv/lib/site-packages/matplotlib/pyplot.py?line=2757'>2758</a>\u001b[0m         \u001b[39m*\u001b[39;49margs, scalex\u001b[39m=\u001b[39;49mscalex, scaley\u001b[39m=\u001b[39;49mscaley,\n\u001b[0;32m   <a href='file:///c%3A/dev/bigdata/venv/lib/site-packages/matplotlib/pyplot.py?line=2758'>2759</a>\u001b[0m         \u001b[39m*\u001b[39;49m\u001b[39m*\u001b[39;49m({\u001b[39m\"\u001b[39;49m\u001b[39mdata\u001b[39;49m\u001b[39m\"\u001b[39;49m: data} \u001b[39mif\u001b[39;49;00m data \u001b[39mis\u001b[39;49;00m \u001b[39mnot\u001b[39;49;00m \u001b[39mNone\u001b[39;49;00m \u001b[39melse\u001b[39;49;00m {}), \u001b[39m*\u001b[39;49m\u001b[39m*\u001b[39;49mkwargs)\n",
      "File \u001b[1;32mC:\\dev\\bigdata\\venv\\lib\\site-packages\\matplotlib\\axes\\_axes.py:1632\u001b[0m, in \u001b[0;36mAxes.plot\u001b[1;34m(self, scalex, scaley, data, *args, **kwargs)\u001b[0m\n\u001b[0;32m   <a href='file:///c%3A/dev/bigdata/venv/lib/site-packages/matplotlib/axes/_axes.py?line=1389'>1390</a>\u001b[0m \u001b[39m\"\"\"\u001b[39;00m\n\u001b[0;32m   <a href='file:///c%3A/dev/bigdata/venv/lib/site-packages/matplotlib/axes/_axes.py?line=1390'>1391</a>\u001b[0m \u001b[39mPlot y versus x as lines and/or markers.\u001b[39;00m\n\u001b[0;32m   <a href='file:///c%3A/dev/bigdata/venv/lib/site-packages/matplotlib/axes/_axes.py?line=1391'>1392</a>\u001b[0m \n\u001b[1;32m   (...)\u001b[0m\n\u001b[0;32m   <a href='file:///c%3A/dev/bigdata/venv/lib/site-packages/matplotlib/axes/_axes.py?line=1628'>1629</a>\u001b[0m \u001b[39m(``'green'``) or hex strings (``'#008000'``).\u001b[39;00m\n\u001b[0;32m   <a href='file:///c%3A/dev/bigdata/venv/lib/site-packages/matplotlib/axes/_axes.py?line=1629'>1630</a>\u001b[0m \u001b[39m\"\"\"\u001b[39;00m\n\u001b[0;32m   <a href='file:///c%3A/dev/bigdata/venv/lib/site-packages/matplotlib/axes/_axes.py?line=1630'>1631</a>\u001b[0m kwargs \u001b[39m=\u001b[39m cbook\u001b[39m.\u001b[39mnormalize_kwargs(kwargs, mlines\u001b[39m.\u001b[39mLine2D)\n\u001b[1;32m-> <a href='file:///c%3A/dev/bigdata/venv/lib/site-packages/matplotlib/axes/_axes.py?line=1631'>1632</a>\u001b[0m lines \u001b[39m=\u001b[39m [\u001b[39m*\u001b[39m\u001b[39mself\u001b[39m\u001b[39m.\u001b[39m_get_lines(\u001b[39m*\u001b[39margs, data\u001b[39m=\u001b[39mdata, \u001b[39m*\u001b[39m\u001b[39m*\u001b[39mkwargs)]\n\u001b[0;32m   <a href='file:///c%3A/dev/bigdata/venv/lib/site-packages/matplotlib/axes/_axes.py?line=1632'>1633</a>\u001b[0m \u001b[39mfor\u001b[39;00m line \u001b[39min\u001b[39;00m lines:\n\u001b[0;32m   <a href='file:///c%3A/dev/bigdata/venv/lib/site-packages/matplotlib/axes/_axes.py?line=1633'>1634</a>\u001b[0m     \u001b[39mself\u001b[39m\u001b[39m.\u001b[39madd_line(line)\n",
      "File \u001b[1;32mC:\\dev\\bigdata\\venv\\lib\\site-packages\\matplotlib\\axes\\_base.py:312\u001b[0m, in \u001b[0;36m_process_plot_var_args.__call__\u001b[1;34m(self, data, *args, **kwargs)\u001b[0m\n\u001b[0;32m    <a href='file:///c%3A/dev/bigdata/venv/lib/site-packages/matplotlib/axes/_base.py?line=309'>310</a>\u001b[0m     this \u001b[39m+\u001b[39m\u001b[39m=\u001b[39m args[\u001b[39m0\u001b[39m],\n\u001b[0;32m    <a href='file:///c%3A/dev/bigdata/venv/lib/site-packages/matplotlib/axes/_base.py?line=310'>311</a>\u001b[0m     args \u001b[39m=\u001b[39m args[\u001b[39m1\u001b[39m:]\n\u001b[1;32m--> <a href='file:///c%3A/dev/bigdata/venv/lib/site-packages/matplotlib/axes/_base.py?line=311'>312</a>\u001b[0m \u001b[39myield from\u001b[39;00m \u001b[39mself\u001b[39;49m\u001b[39m.\u001b[39;49m_plot_args(this, kwargs)\n",
      "File \u001b[1;32mC:\\dev\\bigdata\\venv\\lib\\site-packages\\matplotlib\\axes\\_base.py:501\u001b[0m, in \u001b[0;36m_process_plot_var_args._plot_args\u001b[1;34m(self, tup, kwargs, return_kwargs)\u001b[0m\n\u001b[0;32m    <a href='file:///c%3A/dev/bigdata/venv/lib/site-packages/matplotlib/axes/_base.py?line=497'>498</a>\u001b[0m     \u001b[39mraise\u001b[39;00m \u001b[39mValueError\u001b[39;00m(\u001b[39mf\u001b[39m\u001b[39m\"\u001b[39m\u001b[39mx and y must have same first dimension, but \u001b[39m\u001b[39m\"\u001b[39m\n\u001b[0;32m    <a href='file:///c%3A/dev/bigdata/venv/lib/site-packages/matplotlib/axes/_base.py?line=498'>499</a>\u001b[0m                      \u001b[39mf\u001b[39m\u001b[39m\"\u001b[39m\u001b[39mhave shapes \u001b[39m\u001b[39m{\u001b[39;00mx\u001b[39m.\u001b[39mshape\u001b[39m}\u001b[39;00m\u001b[39m and \u001b[39m\u001b[39m{\u001b[39;00my\u001b[39m.\u001b[39mshape\u001b[39m}\u001b[39;00m\u001b[39m\"\u001b[39m)\n\u001b[0;32m    <a href='file:///c%3A/dev/bigdata/venv/lib/site-packages/matplotlib/axes/_base.py?line=499'>500</a>\u001b[0m \u001b[39mif\u001b[39;00m x\u001b[39m.\u001b[39mndim \u001b[39m>\u001b[39m \u001b[39m2\u001b[39m \u001b[39mor\u001b[39;00m y\u001b[39m.\u001b[39mndim \u001b[39m>\u001b[39m \u001b[39m2\u001b[39m:\n\u001b[1;32m--> <a href='file:///c%3A/dev/bigdata/venv/lib/site-packages/matplotlib/axes/_base.py?line=500'>501</a>\u001b[0m     \u001b[39mraise\u001b[39;00m \u001b[39mValueError\u001b[39;00m(\u001b[39mf\u001b[39m\u001b[39m\"\u001b[39m\u001b[39mx and y can be no greater than 2D, but have \u001b[39m\u001b[39m\"\u001b[39m\n\u001b[0;32m    <a href='file:///c%3A/dev/bigdata/venv/lib/site-packages/matplotlib/axes/_base.py?line=501'>502</a>\u001b[0m                      \u001b[39mf\u001b[39m\u001b[39m\"\u001b[39m\u001b[39mshapes \u001b[39m\u001b[39m{\u001b[39;00mx\u001b[39m.\u001b[39mshape\u001b[39m}\u001b[39;00m\u001b[39m and \u001b[39m\u001b[39m{\u001b[39;00my\u001b[39m.\u001b[39mshape\u001b[39m}\u001b[39;00m\u001b[39m\"\u001b[39m)\n\u001b[0;32m    <a href='file:///c%3A/dev/bigdata/venv/lib/site-packages/matplotlib/axes/_base.py?line=502'>503</a>\u001b[0m \u001b[39mif\u001b[39;00m x\u001b[39m.\u001b[39mndim \u001b[39m==\u001b[39m \u001b[39m1\u001b[39m:\n\u001b[0;32m    <a href='file:///c%3A/dev/bigdata/venv/lib/site-packages/matplotlib/axes/_base.py?line=503'>504</a>\u001b[0m     x \u001b[39m=\u001b[39m x[:, np\u001b[39m.\u001b[39mnewaxis]\n",
      "\u001b[1;31mValueError\u001b[0m: x and y can be no greater than 2D, but have shapes (3,) and (3, 365, 2)"
     ]
    },
    {
     "data": {
      "image/png": "[encoded data removed]",
      "text/plain": [
       "<Figure size 720x432 with 1 Axes>"
      ]
     },
     "metadata": {
      "needs_background": "light"
     },
     "output_type": "display_data"
    }
   ],
   "source": [
    "plot_history(plotting_data, search_terms)"
   ]
  }
 ],
 "metadata": {
  "interpreter": {
   "hash": "60af96095d3cc7c2ac7c2294fcd6c4f6156af3df1ea42cf7958eb296763c630a"
  },
  "kernelspec": {
   "display_name": "Python 3.8.10 64-bit ('venv': venv)",
   "language": "python",
   "name": "python3"
  },
  "language_info": {
   "codemirror_mode": {
    "name": "ipython",
    "version": 3
   },
   "file_extension": ".py",
   "mimetype": "text/x-python",
   "name": "python",
   "nbconvert_exporter": "python",
   "pygments_lexer": "ipython3",
   "version": "3.8.10"
  },
  "orig_nbformat": 4
 },
 "nbformat": 4,
 "nbformat_minor": 2
}
