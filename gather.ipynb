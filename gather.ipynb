{
 "cells": [
  {
   "cell_type": "code",
   "execution_count": 16,
   "metadata": {},
   "outputs": [],
   "source": [
    "from pytrends.request import TrendReq\n",
    "from matplotlib import pyplot as plt\n",
    "import pandas as pd\n",
    "\n",
    "import warnings\n",
    "warnings.simplefilter(action='ignore', category=FutureWarning)\n",
    "\n",
    "# Vizu settings\n",
    "%matplotlib inline\n",
    "plt.rcParams['font.size'] = 16\n",
    "plt.rcParams['figure.figsize'] = (10, 6)\n",
    "\n",
    "# Local imports\n",
    "from utils import load_countries, plot_history, histories_to_pandas\n",
    "from search_engine import SearchEngine\n",
    "\n",
    "# reproducibility\n",
    "import random\n",
    "random.seed(1337)"
   ]
  },
  {
   "cell_type": "code",
   "execution_count": 17,
   "metadata": {},
   "outputs": [],
   "source": [
    "COUNTRY_DIR = \"docs/countries.txt\"\n",
    "COUNTRY_IGNORE_DIR = \"docs/ignore.txt\"\n",
    "LANGUAGE = 'en-US'\n",
    "TIME_ZONE = 360\n",
    "\n",
    "search_engine = SearchEngine(\n",
    "    pytrends = TrendReq(hl=LANGUAGE, tz=TIME_ZONE),\n",
    "    supported_countries = load_countries(filename=COUNTRY_DIR, ignore=COUNTRY_IGNORE_DIR),\n",
    "    fetch_interval = 2\n",
    ")"
   ]
  },
  {
   "cell_type": "code",
   "execution_count": 18,
   "metadata": {},
   "outputs": [
    {
     "name": "stderr",
     "output_type": "stream",
     "text": [
      "Fetching trends:   0%|\u001b[32m          \u001b[0m| 0/6 [00:02<?, ?it/s]\n"
     ]
    },
    {
     "ename": "ResponseError",
     "evalue": "The request failed: Google returned a response with code 400.",
     "output_type": "error",
     "traceback": [
      "\u001b[1;31m---------------------------------------------------------------------------\u001b[0m",
      "\u001b[1;31mResponseError\u001b[0m                             Traceback (most recent call last)",
      "\u001b[1;32mc:\\dev\\bigdata\\gather.ipynb Cell 3'\u001b[0m in \u001b[0;36m<cell line: 9>\u001b[1;34m()\u001b[0m\n\u001b[0;32m      <a href='vscode-notebook-cell:/c%3A/dev/bigdata/gather.ipynb#ch0000002?line=6'>7</a>\u001b[0m historic_trends \u001b[39m=\u001b[39m []\n\u001b[0;32m      <a href='vscode-notebook-cell:/c%3A/dev/bigdata/gather.ipynb#ch0000002?line=8'>9</a>\u001b[0m \u001b[39mfor\u001b[39;00m year \u001b[39min\u001b[39;00m YEARS:\n\u001b[1;32m---> <a href='vscode-notebook-cell:/c%3A/dev/bigdata/gather.ipynb#ch0000002?line=10'>11</a>\u001b[0m     history_trends \u001b[39m=\u001b[39m search_engine\u001b[39m.\u001b[39;49mget_daily_trends_by_year(\n\u001b[0;32m     <a href='vscode-notebook-cell:/c%3A/dev/bigdata/gather.ipynb#ch0000002?line=11'>12</a>\u001b[0m         search_terms\u001b[39m=\u001b[39;49mSEARCH_TERMS,\n\u001b[0;32m     <a href='vscode-notebook-cell:/c%3A/dev/bigdata/gather.ipynb#ch0000002?line=12'>13</a>\u001b[0m         year\u001b[39m=\u001b[39;49myear,\n\u001b[0;32m     <a href='vscode-notebook-cell:/c%3A/dev/bigdata/gather.ipynb#ch0000002?line=13'>14</a>\u001b[0m         countries\u001b[39m=\u001b[39;49mSEARCH_COUNTRIES\n\u001b[0;32m     <a href='vscode-notebook-cell:/c%3A/dev/bigdata/gather.ipynb#ch0000002?line=14'>15</a>\u001b[0m     )\n\u001b[0;32m     <a href='vscode-notebook-cell:/c%3A/dev/bigdata/gather.ipynb#ch0000002?line=16'>17</a>\u001b[0m     trends_df \u001b[39m=\u001b[39m histories_to_pandas(history_trends)\n\u001b[0;32m     <a href='vscode-notebook-cell:/c%3A/dev/bigdata/gather.ipynb#ch0000002?line=18'>19</a>\u001b[0m     historic_trends\u001b[39m.\u001b[39mappend(trends_df)\n",
      "File \u001b[1;32mc:\\dev\\bigdata\\search_engine.py:31\u001b[0m, in \u001b[0;36mSearchEngine.get_daily_trends_by_year\u001b[1;34m(self, search_terms, year, countries)\u001b[0m\n\u001b[0;32m     <a href='file:///c%3A/dev/bigdata/search_engine.py?line=28'>29</a>\u001b[0m \u001b[39mfor\u001b[39;00m geocode, country \u001b[39min\u001b[39;00m tqdm(search_countries, desc\u001b[39m=\u001b[39m\u001b[39m\"\u001b[39m\u001b[39mFetching trends\u001b[39m\u001b[39m\"\u001b[39m, colour\u001b[39m=\u001b[39m\u001b[39m\"\u001b[39m\u001b[39mgreen\u001b[39m\u001b[39m\"\u001b[39m):\n\u001b[0;32m     <a href='file:///c%3A/dev/bigdata/search_engine.py?line=29'>30</a>\u001b[0m     \u001b[39mtry\u001b[39;00m:\n\u001b[1;32m---> <a href='file:///c%3A/dev/bigdata/search_engine.py?line=30'>31</a>\u001b[0m         history \u001b[39m=\u001b[39m \u001b[39mself\u001b[39;49m\u001b[39m.\u001b[39;49m_get_yearly_interest_by_country(search_terms, year, geocode)\n\u001b[0;32m     <a href='file:///c%3A/dev/bigdata/search_engine.py?line=32'>33</a>\u001b[0m         trends\u001b[39m.\u001b[39mappend((country, history))\n\u001b[0;32m     <a href='file:///c%3A/dev/bigdata/search_engine.py?line=33'>34</a>\u001b[0m     \u001b[39mexcept\u001b[39;00m \u001b[39mValueError\u001b[39;00m \u001b[39mas\u001b[39;00m ve:\n",
      "File \u001b[1;32mc:\\dev\\bigdata\\search_engine.py:62\u001b[0m, in \u001b[0;36mSearchEngine._get_yearly_interest_by_country\u001b[1;34m(self, search_terms, year, geocode)\u001b[0m\n\u001b[0;32m     <a href='file:///c%3A/dev/bigdata/search_engine.py?line=58'>59</a>\u001b[0m time_periods \u001b[39m=\u001b[39m [first_six_months, last_six_months]\n\u001b[0;32m     <a href='file:///c%3A/dev/bigdata/search_engine.py?line=60'>61</a>\u001b[0m \u001b[39mfor\u001b[39;00m time_period \u001b[39min\u001b[39;00m time_periods:\n\u001b[1;32m---> <a href='file:///c%3A/dev/bigdata/search_engine.py?line=61'>62</a>\u001b[0m     history_frame \u001b[39m=\u001b[39m \u001b[39mself\u001b[39;49m\u001b[39m.\u001b[39;49m_get_interest_over_time(search_terms, time_period, geocode)\n\u001b[0;32m     <a href='file:///c%3A/dev/bigdata/search_engine.py?line=62'>63</a>\u001b[0m     tmp_history\u001b[39m.\u001b[39mappend(history_frame)\n\u001b[0;32m     <a href='file:///c%3A/dev/bigdata/search_engine.py?line=64'>65</a>\u001b[0m \u001b[39m# with rescaling\u001b[39;00m\n\u001b[0;32m     <a href='file:///c%3A/dev/bigdata/search_engine.py?line=65'>66</a>\u001b[0m \u001b[39m# combined_history = self._get_rescaled_history(search_terms, tmp_history, time_periods, geocode)\u001b[39;00m\n\u001b[0;32m     <a href='file:///c%3A/dev/bigdata/search_engine.py?line=66'>67</a>\u001b[0m \n\u001b[0;32m     <a href='file:///c%3A/dev/bigdata/search_engine.py?line=67'>68</a>\u001b[0m \u001b[39m# without\u001b[39;00m\n",
      "File \u001b[1;32mc:\\dev\\bigdata\\search_engine.py:42\u001b[0m, in \u001b[0;36mSearchEngine._get_interest_over_time\u001b[1;34m(self, search_terms, tf, geocode)\u001b[0m\n\u001b[0;32m     <a href='file:///c%3A/dev/bigdata/search_engine.py?line=39'>40</a>\u001b[0m time\u001b[39m.\u001b[39msleep(\u001b[39mself\u001b[39m\u001b[39m.\u001b[39mfetch_interval)\n\u001b[0;32m     <a href='file:///c%3A/dev/bigdata/search_engine.py?line=40'>41</a>\u001b[0m \u001b[39m# create the payload for related queries\u001b[39;00m\n\u001b[1;32m---> <a href='file:///c%3A/dev/bigdata/search_engine.py?line=41'>42</a>\u001b[0m \u001b[39mself\u001b[39;49m\u001b[39m.\u001b[39;49mpytrends\u001b[39m.\u001b[39;49mbuild_payload(search_terms, timeframe\u001b[39m=\u001b[39;49mtf, geo\u001b[39m=\u001b[39;49mgeocode)\n\u001b[0;32m     <a href='file:///c%3A/dev/bigdata/search_engine.py?line=42'>43</a>\u001b[0m \u001b[39m# request data from dataframe\u001b[39;00m\n\u001b[0;32m     <a href='file:///c%3A/dev/bigdata/search_engine.py?line=43'>44</a>\u001b[0m payload \u001b[39m=\u001b[39m \u001b[39mself\u001b[39m\u001b[39m.\u001b[39mpytrends\u001b[39m.\u001b[39minterest_over_time()\n",
      "File \u001b[1;32mC:\\dev\\bigdata\\venv\\lib\\site-packages\\pytrends\\request.py:183\u001b[0m, in \u001b[0;36mTrendReq.build_payload\u001b[1;34m(self, kw_list, cat, timeframe, geo, gprop)\u001b[0m\n\u001b[0;32m    <a href='file:///c%3A/dev/bigdata/venv/lib/site-packages/pytrends/request.py?line=180'>181</a>\u001b[0m \u001b[39mself\u001b[39m\u001b[39m.\u001b[39mtoken_payload[\u001b[39m'\u001b[39m\u001b[39mreq\u001b[39m\u001b[39m'\u001b[39m] \u001b[39m=\u001b[39m json\u001b[39m.\u001b[39mdumps(\u001b[39mself\u001b[39m\u001b[39m.\u001b[39mtoken_payload[\u001b[39m'\u001b[39m\u001b[39mreq\u001b[39m\u001b[39m'\u001b[39m])\n\u001b[0;32m    <a href='file:///c%3A/dev/bigdata/venv/lib/site-packages/pytrends/request.py?line=181'>182</a>\u001b[0m \u001b[39m# get tokens\u001b[39;00m\n\u001b[1;32m--> <a href='file:///c%3A/dev/bigdata/venv/lib/site-packages/pytrends/request.py?line=182'>183</a>\u001b[0m \u001b[39mself\u001b[39;49m\u001b[39m.\u001b[39;49m_tokens()\n\u001b[0;32m    <a href='file:///c%3A/dev/bigdata/venv/lib/site-packages/pytrends/request.py?line=183'>184</a>\u001b[0m \u001b[39mreturn\u001b[39;00m\n",
      "File \u001b[1;32mC:\\dev\\bigdata\\venv\\lib\\site-packages\\pytrends\\request.py:189\u001b[0m, in \u001b[0;36mTrendReq._tokens\u001b[1;34m(self)\u001b[0m\n\u001b[0;32m    <a href='file:///c%3A/dev/bigdata/venv/lib/site-packages/pytrends/request.py?line=186'>187</a>\u001b[0m \u001b[39m\"\"\"Makes request to Google to get API tokens for interest over time, interest by region and related queries\"\"\"\u001b[39;00m\n\u001b[0;32m    <a href='file:///c%3A/dev/bigdata/venv/lib/site-packages/pytrends/request.py?line=187'>188</a>\u001b[0m \u001b[39m# make the request and parse the returned json\u001b[39;00m\n\u001b[1;32m--> <a href='file:///c%3A/dev/bigdata/venv/lib/site-packages/pytrends/request.py?line=188'>189</a>\u001b[0m widget_dicts \u001b[39m=\u001b[39m \u001b[39mself\u001b[39;49m\u001b[39m.\u001b[39;49m_get_data(\n\u001b[0;32m    <a href='file:///c%3A/dev/bigdata/venv/lib/site-packages/pytrends/request.py?line=189'>190</a>\u001b[0m     url\u001b[39m=\u001b[39;49mTrendReq\u001b[39m.\u001b[39;49mGENERAL_URL,\n\u001b[0;32m    <a href='file:///c%3A/dev/bigdata/venv/lib/site-packages/pytrends/request.py?line=190'>191</a>\u001b[0m     method\u001b[39m=\u001b[39;49mTrendReq\u001b[39m.\u001b[39;49mGET_METHOD,\n\u001b[0;32m    <a href='file:///c%3A/dev/bigdata/venv/lib/site-packages/pytrends/request.py?line=191'>192</a>\u001b[0m     params\u001b[39m=\u001b[39;49m\u001b[39mself\u001b[39;49m\u001b[39m.\u001b[39;49mtoken_payload,\n\u001b[0;32m    <a href='file:///c%3A/dev/bigdata/venv/lib/site-packages/pytrends/request.py?line=192'>193</a>\u001b[0m     trim_chars\u001b[39m=\u001b[39;49m\u001b[39m4\u001b[39;49m,\n\u001b[0;32m    <a href='file:///c%3A/dev/bigdata/venv/lib/site-packages/pytrends/request.py?line=193'>194</a>\u001b[0m )[\u001b[39m'\u001b[39m\u001b[39mwidgets\u001b[39m\u001b[39m'\u001b[39m]\n\u001b[0;32m    <a href='file:///c%3A/dev/bigdata/venv/lib/site-packages/pytrends/request.py?line=194'>195</a>\u001b[0m \u001b[39m# order of the json matters...\u001b[39;00m\n\u001b[0;32m    <a href='file:///c%3A/dev/bigdata/venv/lib/site-packages/pytrends/request.py?line=195'>196</a>\u001b[0m first_region_token \u001b[39m=\u001b[39m \u001b[39mTrue\u001b[39;00m\n",
      "File \u001b[1;32mC:\\dev\\bigdata\\venv\\lib\\site-packages\\pytrends\\request.py:157\u001b[0m, in \u001b[0;36mTrendReq._get_data\u001b[1;34m(self, url, method, trim_chars, **kwargs)\u001b[0m\n\u001b[0;32m    <a href='file:///c%3A/dev/bigdata/venv/lib/site-packages/pytrends/request.py?line=153'>154</a>\u001b[0m     \u001b[39mreturn\u001b[39;00m json\u001b[39m.\u001b[39mloads(content)\n\u001b[0;32m    <a href='file:///c%3A/dev/bigdata/venv/lib/site-packages/pytrends/request.py?line=154'>155</a>\u001b[0m \u001b[39melse\u001b[39;00m:\n\u001b[0;32m    <a href='file:///c%3A/dev/bigdata/venv/lib/site-packages/pytrends/request.py?line=155'>156</a>\u001b[0m     \u001b[39m# error\u001b[39;00m\n\u001b[1;32m--> <a href='file:///c%3A/dev/bigdata/venv/lib/site-packages/pytrends/request.py?line=156'>157</a>\u001b[0m     \u001b[39mraise\u001b[39;00m exceptions\u001b[39m.\u001b[39mResponseError(\n\u001b[0;32m    <a href='file:///c%3A/dev/bigdata/venv/lib/site-packages/pytrends/request.py?line=157'>158</a>\u001b[0m         \u001b[39m'\u001b[39m\u001b[39mThe request failed: Google returned a \u001b[39m\u001b[39m'\u001b[39m\n\u001b[0;32m    <a href='file:///c%3A/dev/bigdata/venv/lib/site-packages/pytrends/request.py?line=158'>159</a>\u001b[0m         \u001b[39m'\u001b[39m\u001b[39mresponse with code \u001b[39m\u001b[39m{0}\u001b[39;00m\u001b[39m.\u001b[39m\u001b[39m'\u001b[39m\u001b[39m.\u001b[39mformat(response\u001b[39m.\u001b[39mstatus_code),\n\u001b[0;32m    <a href='file:///c%3A/dev/bigdata/venv/lib/site-packages/pytrends/request.py?line=159'>160</a>\u001b[0m         response\u001b[39m=\u001b[39mresponse)\n",
      "\u001b[1;31mResponseError\u001b[0m: The request failed: Google returned a response with code 400."
     ]
    }
   ],
   "source": [
    "YEARS = [2010, 2011, 2012, 2013, 2014, 2015, 2016, 2017, 2018, 2019, 2020]\n",
    "\n",
    "SEARCH_TERMS = [\"Donald Trump\", \"Putin\", \"MeToo\", \"Bitcoin\", \"ISIS\", \"LGBT\"]\n",
    "\n",
    "SEARCH_COUNTRIES = [\"United States\", \"Norway\", \"Sweden\", \"United Kingdom\", \"Canada\", \"Germany\"]\n",
    "\n",
    "historic_trends = []\n",
    "\n",
    "for year in YEARS:\n",
    "\n",
    "    history_trends = search_engine.get_daily_trends_by_year(\n",
    "        search_terms=SEARCH_TERMS,\n",
    "        year=year,\n",
    "        countries=SEARCH_COUNTRIES\n",
    "    )\n",
    "\n",
    "    trends_df = histories_to_pandas(history_trends)\n",
    "\n",
    "    historic_trends.append(trends_df)\n",
    "\n",
    "historic_trends = pd.concat(historic_trends)"
   ]
  },
  {
   "cell_type": "code",
   "execution_count": null,
   "metadata": {},
   "outputs": [],
   "source": [
    "historic_trends.head()"
   ]
  },
  {
   "cell_type": "code",
   "execution_count": null,
   "metadata": {},
   "outputs": [],
   "source": [
    "historic_trends.info()"
   ]
  },
  {
   "cell_type": "code",
   "execution_count": null,
   "metadata": {},
   "outputs": [],
   "source": [
    "historic_trends.tail()"
   ]
  },
  {
   "cell_type": "code",
   "execution_count": null,
   "metadata": {},
   "outputs": [],
   "source": [
    "historic_trends.to_csv(\"historic_trends_2010_2020.csv\")"
   ]
  },
  {
   "cell_type": "code",
   "execution_count": 19,
   "metadata": {},
   "outputs": [],
   "source": [
    "loaded_data = pd.read_csv(\"historic_trends_2010_2020.csv\")"
   ]
  },
  {
   "cell_type": "code",
   "execution_count": 20,
   "metadata": {},
   "outputs": [],
   "source": [
    "# drop index\n",
    "loaded_data.drop(columns=['Unnamed: 0'], inplace=True)"
   ]
  },
  {
   "cell_type": "code",
   "execution_count": 22,
   "metadata": {},
   "outputs": [],
   "source": [
    "loaded_data.to_csv(\"historic_trends_2010_2020.csv\")"
   ]
  },
  {
   "cell_type": "code",
   "execution_count": null,
   "metadata": {},
   "outputs": [],
   "source": []
  }
 ],
 "metadata": {
  "interpreter": {
   "hash": "69a7ce20f0c7facf626ee2a8a28dddd143063bd9b59f8c23d36f7a171909b336"
  },
  "kernelspec": {
   "display_name": "Python 3.8.10 ('venv': venv)",
   "language": "python",
   "name": "python3"
  },
  "language_info": {
   "codemirror_mode": {
    "name": "ipython",
    "version": 3
   },
   "file_extension": ".py",
   "mimetype": "text/x-python",
   "name": "python",
   "nbconvert_exporter": "python",
   "pygments_lexer": "ipython3",
   "version": "3.8.10"
  },
  "orig_nbformat": 4
 },
 "nbformat": 4,
 "nbformat_minor": 2
}
