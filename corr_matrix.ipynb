{
 "cells": [
  {
   "cell_type": "code",
   "execution_count": null,
   "metadata": {},
   "outputs": [],
   "source": [
    "from matplotlib import pyplot as plt\n",
    "import pandas as pd\n",
    "import seaborn as sns"
   ]
  },
  {
   "cell_type": "code",
   "execution_count": null,
   "metadata": {},
   "outputs": [],
   "source": [
    "df = pd.read_csv(\"Trends/db_0.csv\")\n",
    "df[\"date\"]= pd.to_datetime(df[\"date\"])\n",
    "df.dropna(inplace=True)"
   ]
  },
  {
   "cell_type": "code",
   "execution_count": null,
   "metadata": {},
   "outputs": [],
   "source": [
    "# Keep country and Facebook\n",
    "df = df[[\"country\", \"Facebook\"]]"
   ]
  },
  {
   "cell_type": "code",
   "execution_count": null,
   "metadata": {},
   "outputs": [],
   "source": [
    "# Get a lsit of countries\n",
    "countries = df[\"country\"].unique()"
   ]
  },
  {
   "cell_type": "code",
   "execution_count": null,
   "metadata": {},
   "outputs": [],
   "source": [
    "# Create a new DataFrame \n",
    "new_df = pd.DataFrame()\n",
    "for country in countries:\n",
    "    tmp = df[df[\"country\"] == country]#\n",
    "    tmp = tmp.drop(columns=[\"country\"])\n",
    "    tmp = tmp.rename(columns={\"Facebook\": country})\n",
    "    new_df = pd.concat([new_df.reset_index(drop=True), tmp.reset_index(drop=True)], axis=1)"
   ]
  },
  {
   "cell_type": "code",
   "execution_count": null,
   "metadata": {},
   "outputs": [],
   "source": [
    "# Remove Global, and insert it at the front\n",
    "new_df[\"Global\"] = new_df.sum(axis=1) / new_df.shape[1]\n",
    "GLOB = new_df.pop('Global')\n",
    "new_df.insert(0, \"Global\", GLOB)"
   ]
  },
  {
   "cell_type": "code",
   "execution_count": null,
   "metadata": {},
   "outputs": [],
   "source": [
    "VIZUALIZE = False\n",
    "\n",
    "if VIZUALIZE:\n",
    "    plt.figure(figsize=(60, 40), dpi=300)\n",
    "    plt.title(\"Facebook\")\n",
    "    sns.heatmap(new_df.corr(), annot=True)"
   ]
  },
  {
   "cell_type": "code",
   "execution_count": 33,
   "metadata": {},
   "outputs": [],
   "source": [
    "CORRELATION_MATRIX = new_df.corr()"
   ]
  },
  {
   "cell_type": "code",
   "execution_count": null,
   "metadata": {},
   "outputs": [],
   "source": [
    "# Use CORRELATION_MATRIX to whatever you want"
   ]
  }
 ],
 "metadata": {
  "interpreter": {
   "hash": "69a7ce20f0c7facf626ee2a8a28dddd143063bd9b59f8c23d36f7a171909b336"
  },
  "kernelspec": {
   "display_name": "Python 3.8.10 ('venv': venv)",
   "language": "python",
   "name": "python3"
  },
  "language_info": {
   "codemirror_mode": {
    "name": "ipython",
    "version": 3
   },
   "file_extension": ".py",
   "mimetype": "text/x-python",
   "name": "python",
   "nbconvert_exporter": "python",
   "pygments_lexer": "ipython3",
   "version": "3.8.10"
  },
  "orig_nbformat": 4
 },
 "nbformat": 4,
 "nbformat_minor": 2
}
