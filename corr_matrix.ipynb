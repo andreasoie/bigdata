{
 "cells": [
  {
   "cell_type": "code",
   "execution_count": 1,
   "metadata": {},
   "outputs": [],
   "source": [
    "from matplotlib import pyplot as plt\n",
    "import pandas as pd\n",
    "import seaborn as sns"
   ]
  },
  {
   "cell_type": "code",
   "execution_count": 11,
   "metadata": {},
   "outputs": [],
   "source": [
    "df = pd.read_csv(\"Trends/db_0.csv\")\n",
    "df[\"date\"]= pd.to_datetime(df[\"date\"])\n",
    "df.dropna(inplace=True)"
   ]
  },
  {
   "cell_type": "code",
   "execution_count": 12,
   "metadata": {},
   "outputs": [],
   "source": [
    "# Keep country and Facebook\n",
    "df = df[[\"country\", \"Facebook\"]]"
   ]
  },
  {
   "cell_type": "code",
   "execution_count": 13,
   "metadata": {},
   "outputs": [],
   "source": [
    "# Get a list of countries\n",
    "countries = df[\"country\"].unique()"
   ]
  },
  {
   "cell_type": "code",
   "execution_count": 14,
   "metadata": {},
   "outputs": [],
   "source": [
    "# Create a new DataFrame \n",
    "new_df = pd.DataFrame()\n",
    "for country in countries:\n",
    "    tmp = df[df[\"country\"] == country]#\n",
    "    tmp = tmp.drop(columns=[\"country\"])\n",
    "    tmp = tmp.rename(columns={\"Facebook\": country})\n",
    "    new_df = pd.concat([new_df.reset_index(drop=True), tmp.reset_index(drop=True)], axis=1)"
   ]
  },
  {
   "cell_type": "code",
   "execution_count": 15,
   "metadata": {},
   "outputs": [],
   "source": [
    "# Remove Global, and insert it at the front\n",
    "new_df[\"Global\"] = new_df.sum(axis=1) / new_df.shape[1]\n",
    "GLOB = new_df.pop('Global')\n",
    "new_df.insert(0, \"Global\", GLOB)"
   ]
  },
  {
   "cell_type": "code",
   "execution_count": 16,
   "metadata": {},
   "outputs": [],
   "source": [
    "VIZUALIZE = False\n",
    "\n",
    "if VIZUALIZE:\n",
    "    plt.figure(figsize=(60, 40), dpi=300)\n",
    "    plt.title(\"Facebook\")\n",
    "    sns.heatmap(new_df.corr(), annot=True)"
   ]
  },
  {
   "cell_type": "code",
   "execution_count": 17,
   "metadata": {},
   "outputs": [],
   "source": [
    "CORRELATION_MATRIX = new_df.corr()"
   ]
  },
  {
   "cell_type": "code",
   "execution_count": 18,
   "metadata": {},
   "outputs": [
    {
     "name": "stdout",
     "output_type": "stream",
     "text": [
      "Index(['Global', 'Afghanistan', 'China', 'United Kingdom', 'Colombia',\n",
      "       'Cameroon', 'Croatia', 'Sweden', 'Morocco', 'Bangladesh', 'Italy',\n",
      "       'Ecuador', 'Egypt', 'Turkey', 'Ukraine', 'United States', 'Finland',\n",
      "       'Israel', 'Denmark', 'Brazil', 'Chile', 'Iran', 'Georgia', 'Germany',\n",
      "       'Bolivia', 'Greece', 'Canada', 'Saudi Arabia', 'Uruguay', 'Gambia',\n",
      "       'Thailand', 'Hong Kong', 'Hungary', 'Iraq', 'Iceland', 'Switzerland',\n",
      "       'India', 'Belgium', 'France', 'Estonia', 'Lebanon', 'Cuba', 'Russia',\n",
      "       'Bosnia & Herzegovina', 'Belarus', 'Montenegro', 'Liechtenstein',\n",
      "       'South Korea', 'Japan', 'Spain', 'Libya', 'Tunisia', 'Ireland',\n",
      "       'Lithuania', 'Luxembourg', 'Austria', 'Venezuela', 'South Africa',\n",
      "       'Mexico', 'Czechia', 'Latvia', 'Kenya', 'Mongolia', 'Norway',\n",
      "       'Paraguay', 'Netherlands', 'New Zealand', 'Nigeria', 'Slovakia',\n",
      "       'Slovenia', 'Pakistan', 'Argentina', 'Peru', 'Qatar', 'Serbia',\n",
      "       'Romania', 'Australia', 'Singapore', 'Poland', 'Portugal', 'Albania'],\n",
      "      dtype='object')\n",
      "[[ 1.          0.56376621  0.24069948 ...  0.82349533  0.73479432\n",
      "   0.56278348]\n",
      " [ 0.56376621  1.         -0.04181935 ...  0.44625187  0.3337898\n",
      "   0.20510168]\n",
      " [ 0.24069948 -0.04181935  1.         ...  0.25624254  0.22436582\n",
      "   0.22162468]\n",
      " ...\n",
      " [ 0.82349533  0.44625187  0.25624254 ...  1.          0.71089384\n",
      "   0.38728903]\n",
      " [ 0.73479432  0.3337898   0.22436582 ...  0.71089384  1.\n",
      "   0.45282334]\n",
      " [ 0.56278348  0.20510168  0.22162468 ...  0.38728903  0.45282334\n",
      "   1.        ]]\n"
     ]
    }
   ],
   "source": [
    "# Use CORRELATION_MATRIX to whatever you want\n",
    "print(CORRELATION_MATRIX.columns)\n",
    "print(CORRELATION_MATRIX.values)\n"
   ]
  },
  {
   "cell_type": "code",
   "execution_count": 25,
   "metadata": {},
   "outputs": [
    {
     "name": "stdout",
     "output_type": "stream",
     "text": [
      "Index(['Global', 'Afghanistan', 'China', 'United Kingdom', 'Colombia',\n",
      "       'Cameroon', 'Croatia', 'Sweden', 'Morocco', 'Bangladesh', 'Italy',\n",
      "       'Ecuador', 'Egypt', 'Turkey', 'Ukraine', 'United States', 'Finland',\n",
      "       'Israel', 'Denmark', 'Brazil', 'Chile', 'Iran', 'Georgia', 'Germany',\n",
      "       'Bolivia', 'Greece', 'Canada', 'Saudi Arabia', 'Uruguay', 'Gambia',\n",
      "       'Thailand', 'Hong Kong', 'Hungary', 'Iraq', 'Iceland', 'Switzerland',\n",
      "       'India', 'Belgium', 'France', 'Estonia', 'Lebanon', 'Cuba', 'Russia',\n",
      "       'Bosnia & Herzegovina', 'Belarus', 'Montenegro', 'Liechtenstein',\n",
      "       'South Korea', 'Japan', 'Spain', 'Libya', 'Tunisia', 'Ireland',\n",
      "       'Lithuania', 'Luxembourg', 'Austria', 'Venezuela', 'South Africa',\n",
      "       'Mexico', 'Czechia', 'Latvia', 'Kenya', 'Mongolia', 'Norway',\n",
      "       'Paraguay', 'Netherlands', 'New Zealand', 'Nigeria', 'Slovakia',\n",
      "       'Slovenia', 'Pakistan', 'Argentina', 'Peru', 'Qatar', 'Serbia',\n",
      "       'Romania', 'Australia', 'Singapore', 'Poland', 'Portugal', 'Albania'],\n",
      "      dtype='object') \n",
      " [[ 1.          0.56376621  0.24069948 ...  0.82349533  0.73479432\n",
      "   0.56278348]\n",
      " [ 0.56376621  1.         -0.04181935 ...  0.44625187  0.3337898\n",
      "   0.20510168]\n",
      " [ 0.24069948 -0.04181935  1.         ...  0.25624254  0.22436582\n",
      "   0.22162468]\n",
      " ...\n",
      " [ 0.82349533  0.44625187  0.25624254 ...  1.          0.71089384\n",
      "   0.38728903]\n",
      " [ 0.73479432  0.3337898   0.22436582 ...  0.71089384  1.\n",
      "   0.45282334]\n",
      " [ 0.56278348  0.20510168  0.22162468 ...  0.38728903  0.45282334\n",
      "   1.        ]]\n",
      "81 81\n"
     ]
    }
   ],
   "source": [
    "def get_corr_matrix(filename,category):\n",
    "    '''\n",
    "    filename: Trends/filename (remember .csv). ex: \"db_0.csv\"\n",
    "    category: ex \"Facebook\", \"YouTube\"\n",
    "    returns list of all countries involved (all names of columns/rows) and correlation matrix \n",
    "    '''\n",
    "    df = pd.read_csv(f\"Trends/{filename}\")\n",
    "    df[\"date\"]= pd.to_datetime(df[\"date\"])\n",
    "    df.dropna(inplace=True)\n",
    "    \n",
    "    # Keep country and Facebook\n",
    "    df = df[[\"country\", category]]\n",
    "    \n",
    "    # Get a list of countries\n",
    "    countries = df[\"country\"].unique()\n",
    "    \n",
    "    # Create a new DataFrame \n",
    "    new_df = pd.DataFrame()\n",
    "    for country in countries:\n",
    "        tmp = df[df[\"country\"] == country]#\n",
    "        tmp = tmp.drop(columns=[\"country\"])\n",
    "        tmp = tmp.rename(columns={category: country})\n",
    "        new_df = pd.concat([new_df.reset_index(drop=True), tmp.reset_index(drop=True)], axis=1)\n",
    "    \n",
    "    # Remove Global, and insert it at the front\n",
    "    new_df[\"Global\"] = new_df.sum(axis=1) / new_df.shape[1]\n",
    "    GLOB = new_df.pop('Global')\n",
    "    new_df.insert(0, \"Global\", GLOB)\n",
    "        \n",
    "    CORRELATION_MATRIX = new_df.corr()\n",
    "    \n",
    "    return CORRELATION_MATRIX.columns, CORRELATION_MATRIX.values\n",
    "    \n",
    "cnt,mtr = get_corr_matrix(\"db_0.csv\",\"Facebook\")"
   ]
  },
  {
   "cell_type": "code",
   "execution_count": 40,
   "metadata": {},
   "outputs": [],
   "source": [
    "# get categories for each file\n",
    "def get_categories(filenames):\n",
    "    '''\n",
    "    filenames: list of filenames\n",
    "    returns categories as a 2D-list where each\n",
    "    inner list refers to a filename\n",
    "    '''\n",
    "    categories = []\n",
    "    for filename in filenames:\n",
    "        df = pd.read_csv(f\"Trends/{filename}\")\n",
    "        df[\"date\"]= pd.to_datetime(df[\"date\"])\n",
    "        df.dropna(inplace=True)\n",
    "        categories.append(df.columns[2:])\n",
    "    return categories"
   ]
  },
  {
   "cell_type": "code",
   "execution_count": 45,
   "metadata": {},
   "outputs": [
    {
     "name": "stdout",
     "output_type": "stream",
     "text": [
      "['db_0.csv', 'db_1.csv', 'db_2.csv', 'db_3.csv', 'db_4.csv', 'db_5.csv', 'db_6.csv', 'db_7.csv', 'db_8.csv', 'db_9.csv'] [Index(['Facebook', 'YouTube', 'Instagram', 'Twitter', 'Snapchat'], dtype='object'), Index(['Elon Musk', 'Jeff Bezos', 'Bill Gates', 'Warren Buffett',\n",
      "       'Mark Zuckerberg'],\n",
      "      dtype='object'), Index(['Osama Bin Laden', 'Donald Trump', 'Brexit', 'ISIS', 'al-Qaida'], dtype='object'), Index(['Big Data', 'Artificial Intelligence', 'Augmented Reality',\n",
      "       'Internet of Things', 'Cloud Computing'],\n",
      "      dtype='object'), Index(['Depression', 'Therapy', 'Bullying', 'Stress', 'Mental Health'], dtype='object'), Index(['Ebola', 'Cholera', 'Zika virus', 'Measles', 'Malaria'], dtype='object'), Index(['Climate Change', 'Global Warming', 'Pollution', 'Fossil Fuels',\n",
      "       'Renewable Energy'],\n",
      "      dtype='object'), Index(['Trauma', 'Racism', 'Loneliness', 'Violence', 'Anxiety'], dtype='object'), Index(['Job', 'Education', 'Freedom', 'Income', 'Investing'], dtype='object'), Index(['Unemployment', 'Criminality', 'Corruption', 'Poverty', 'Prison'], dtype='object')]\n"
     ]
    }
   ],
   "source": [
    "# prepare to get corr matrices\n",
    "filenames = []\n",
    "for i in range(10):\n",
    "    filenames += [f\"db_{i}.csv\"]\n",
    "\n",
    "categories = get_categories(filenames)\n",
    "print(filenames,categories)\n"
   ]
  },
  {
   "cell_type": "code",
   "execution_count": null,
   "metadata": {},
   "outputs": [],
   "source": [
    "# I'll store correlation matrices as 2D lists containing\n",
    "# [category,countries,matrix]\n",
    "# Takes less than 2 min to run\n",
    "corr_matrices = []\n",
    "for i in range(len(filenames)):\n",
    "    for cat in categories[i]:\n",
    "        countries, corr_matrix = get_corr_matrix(filenames[i],cat)\n",
    "        corr_matrices.append([cat,countries,corr_matrix])\n",
    "\n",
    "corr_matrices"
   ]
  }
 ],
 "metadata": {
  "interpreter": {
   "hash": "69a7ce20f0c7facf626ee2a8a28dddd143063bd9b59f8c23d36f7a171909b336"
  },
  "kernelspec": {
   "display_name": "Python 3",
   "language": "python",
   "name": "python3"
  },
  "language_info": {
   "codemirror_mode": {
    "name": "ipython",
    "version": 3
   },
   "file_extension": ".py",
   "mimetype": "text/x-python",
   "name": "python",
   "nbconvert_exporter": "python",
   "pygments_lexer": "ipython3",
   "version": "3.8.8"
  }
 },
 "nbformat": 4,
 "nbformat_minor": 2
}
